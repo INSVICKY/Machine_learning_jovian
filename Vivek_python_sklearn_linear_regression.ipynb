{
  "nbformat": 4,
  "nbformat_minor": 0,
  "metadata": {
    "colab": {
      "name": "Vivek_python-sklearn-linear-regression.ipynb",
      "provenance": [],
      "collapsed_sections": [],
      "authorship_tag": "ABX9TyOjrrZHkYlUJeblZLsF/y67",
      "include_colab_link": true
    },
    "kernelspec": {
      "name": "python3",
      "display_name": "Python 3"
    },
    "language_info": {
      "name": "python"
    }
  },
  "cells": [
    {
      "cell_type": "markdown",
      "metadata": {
        "id": "view-in-github",
        "colab_type": "text"
      },
      "source": [
        "<a href=\"https://colab.research.google.com/github/INSVICKY/Machine_learning_jovian/blob/main/Vivek_python_sklearn_linear_regression.ipynb\" target=\"_parent\"><img src=\"https://colab.research.google.com/assets/colab-badge.svg\" alt=\"Open In Colab\"/></a>"
      ]
    },
    {
      "cell_type": "code",
      "metadata": {
        "colab": {
          "base_uri": "https://localhost:8080/"
        },
        "id": "--pNzjJ7MF69",
        "outputId": "16d1c81c-9e75-4a1f-c7ce-73697de43094"
      },
      "source": [
        "##Downloading the Data\n",
        "##To begin, let's download the data using the urlretrieve function from urllib.request.\n",
        "medical_charges_url = 'https://raw.githubusercontent.com/JovianML/opendatasets/master/data/medical-charges.csv'\n",
        "from urllib.request import urlretrieve\n",
        "urlretrieve(medical_charges_url, 'medical.csv')"
      ],
      "execution_count": 11,
      "outputs": [
        {
          "output_type": "execute_result",
          "data": {
            "text/plain": [
              "('medical.csv', <http.client.HTTPMessage at 0x7f704d59e590>)"
            ]
          },
          "metadata": {
            "tags": []
          },
          "execution_count": 11
        }
      ]
    },
    {
      "cell_type": "markdown",
      "metadata": {
        "id": "5o3Q7GwbMzDW"
      },
      "source": [
        "## ***We can now create a Pandas dataframe using the downloaded file, to view and analyze the data.***"
      ]
    },
    {
      "cell_type": "code",
      "metadata": {
        "colab": {
          "base_uri": "https://localhost:8080/",
          "height": 423
        },
        "id": "XKiPrT4EM9Hu",
        "outputId": "a84e1267-0f45-47be-a5d0-aa463e67d8f1"
      },
      "source": [
        "import pandas as pd\n",
        "medical_df = pd.read_csv('medical.csv')\n",
        "medical_df"
      ],
      "execution_count": 12,
      "outputs": [
        {
          "output_type": "execute_result",
          "data": {
            "text/html": [
              "<div>\n",
              "<style scoped>\n",
              "    .dataframe tbody tr th:only-of-type {\n",
              "        vertical-align: middle;\n",
              "    }\n",
              "\n",
              "    .dataframe tbody tr th {\n",
              "        vertical-align: top;\n",
              "    }\n",
              "\n",
              "    .dataframe thead th {\n",
              "        text-align: right;\n",
              "    }\n",
              "</style>\n",
              "<table border=\"1\" class=\"dataframe\">\n",
              "  <thead>\n",
              "    <tr style=\"text-align: right;\">\n",
              "      <th></th>\n",
              "      <th>age</th>\n",
              "      <th>sex</th>\n",
              "      <th>bmi</th>\n",
              "      <th>children</th>\n",
              "      <th>smoker</th>\n",
              "      <th>region</th>\n",
              "      <th>charges</th>\n",
              "    </tr>\n",
              "  </thead>\n",
              "  <tbody>\n",
              "    <tr>\n",
              "      <th>0</th>\n",
              "      <td>19</td>\n",
              "      <td>female</td>\n",
              "      <td>27.900</td>\n",
              "      <td>0</td>\n",
              "      <td>yes</td>\n",
              "      <td>southwest</td>\n",
              "      <td>16884.92400</td>\n",
              "    </tr>\n",
              "    <tr>\n",
              "      <th>1</th>\n",
              "      <td>18</td>\n",
              "      <td>male</td>\n",
              "      <td>33.770</td>\n",
              "      <td>1</td>\n",
              "      <td>no</td>\n",
              "      <td>southeast</td>\n",
              "      <td>1725.55230</td>\n",
              "    </tr>\n",
              "    <tr>\n",
              "      <th>2</th>\n",
              "      <td>28</td>\n",
              "      <td>male</td>\n",
              "      <td>33.000</td>\n",
              "      <td>3</td>\n",
              "      <td>no</td>\n",
              "      <td>southeast</td>\n",
              "      <td>4449.46200</td>\n",
              "    </tr>\n",
              "    <tr>\n",
              "      <th>3</th>\n",
              "      <td>33</td>\n",
              "      <td>male</td>\n",
              "      <td>22.705</td>\n",
              "      <td>0</td>\n",
              "      <td>no</td>\n",
              "      <td>northwest</td>\n",
              "      <td>21984.47061</td>\n",
              "    </tr>\n",
              "    <tr>\n",
              "      <th>4</th>\n",
              "      <td>32</td>\n",
              "      <td>male</td>\n",
              "      <td>28.880</td>\n",
              "      <td>0</td>\n",
              "      <td>no</td>\n",
              "      <td>northwest</td>\n",
              "      <td>3866.85520</td>\n",
              "    </tr>\n",
              "    <tr>\n",
              "      <th>...</th>\n",
              "      <td>...</td>\n",
              "      <td>...</td>\n",
              "      <td>...</td>\n",
              "      <td>...</td>\n",
              "      <td>...</td>\n",
              "      <td>...</td>\n",
              "      <td>...</td>\n",
              "    </tr>\n",
              "    <tr>\n",
              "      <th>1333</th>\n",
              "      <td>50</td>\n",
              "      <td>male</td>\n",
              "      <td>30.970</td>\n",
              "      <td>3</td>\n",
              "      <td>no</td>\n",
              "      <td>northwest</td>\n",
              "      <td>10600.54830</td>\n",
              "    </tr>\n",
              "    <tr>\n",
              "      <th>1334</th>\n",
              "      <td>18</td>\n",
              "      <td>female</td>\n",
              "      <td>31.920</td>\n",
              "      <td>0</td>\n",
              "      <td>no</td>\n",
              "      <td>northeast</td>\n",
              "      <td>2205.98080</td>\n",
              "    </tr>\n",
              "    <tr>\n",
              "      <th>1335</th>\n",
              "      <td>18</td>\n",
              "      <td>female</td>\n",
              "      <td>36.850</td>\n",
              "      <td>0</td>\n",
              "      <td>no</td>\n",
              "      <td>southeast</td>\n",
              "      <td>1629.83350</td>\n",
              "    </tr>\n",
              "    <tr>\n",
              "      <th>1336</th>\n",
              "      <td>21</td>\n",
              "      <td>female</td>\n",
              "      <td>25.800</td>\n",
              "      <td>0</td>\n",
              "      <td>no</td>\n",
              "      <td>southwest</td>\n",
              "      <td>2007.94500</td>\n",
              "    </tr>\n",
              "    <tr>\n",
              "      <th>1337</th>\n",
              "      <td>61</td>\n",
              "      <td>female</td>\n",
              "      <td>29.070</td>\n",
              "      <td>0</td>\n",
              "      <td>yes</td>\n",
              "      <td>northwest</td>\n",
              "      <td>29141.36030</td>\n",
              "    </tr>\n",
              "  </tbody>\n",
              "</table>\n",
              "<p>1338 rows × 7 columns</p>\n",
              "</div>"
            ],
            "text/plain": [
              "      age     sex     bmi  children smoker     region      charges\n",
              "0      19  female  27.900         0    yes  southwest  16884.92400\n",
              "1      18    male  33.770         1     no  southeast   1725.55230\n",
              "2      28    male  33.000         3     no  southeast   4449.46200\n",
              "3      33    male  22.705         0     no  northwest  21984.47061\n",
              "4      32    male  28.880         0     no  northwest   3866.85520\n",
              "...   ...     ...     ...       ...    ...        ...          ...\n",
              "1333   50    male  30.970         3     no  northwest  10600.54830\n",
              "1334   18  female  31.920         0     no  northeast   2205.98080\n",
              "1335   18  female  36.850         0     no  southeast   1629.83350\n",
              "1336   21  female  25.800         0     no  southwest   2007.94500\n",
              "1337   61  female  29.070         0    yes  northwest  29141.36030\n",
              "\n",
              "[1338 rows x 7 columns]"
            ]
          },
          "metadata": {
            "tags": []
          },
          "execution_count": 12
        }
      ]
    },
    {
      "cell_type": "markdown",
      "metadata": {
        "id": "_BN2iWu1NWBa"
      },
      "source": [
        "The dataset contains 1338 rows and 7 columns. Each row of the dataset contains information about one customer.\n",
        "\n",
        "Our objective is to find a way to estimate the value in the \"charges\" column using the values in the other columns. If we can do so for the historical data, then we should able to estimate charges for new customers too, simply by asking for information like their age, sex, BMI, no. of children, smoking habits and region.\n",
        "\n",
        "Let's check the data type for each column."
      ]
    },
    {
      "cell_type": "code",
      "metadata": {
        "colab": {
          "base_uri": "https://localhost:8080/"
        },
        "id": "9l_pIECUNZKl",
        "outputId": "b6cfbc4b-2af3-4a32-9071-d6c62251fceb"
      },
      "source": [
        "medical_df.info()"
      ],
      "execution_count": 13,
      "outputs": [
        {
          "output_type": "stream",
          "text": [
            "<class 'pandas.core.frame.DataFrame'>\n",
            "RangeIndex: 1338 entries, 0 to 1337\n",
            "Data columns (total 7 columns):\n",
            " #   Column    Non-Null Count  Dtype  \n",
            "---  ------    --------------  -----  \n",
            " 0   age       1338 non-null   int64  \n",
            " 1   sex       1338 non-null   object \n",
            " 2   bmi       1338 non-null   float64\n",
            " 3   children  1338 non-null   int64  \n",
            " 4   smoker    1338 non-null   object \n",
            " 5   region    1338 non-null   object \n",
            " 6   charges   1338 non-null   float64\n",
            "dtypes: float64(2), int64(2), object(3)\n",
            "memory usage: 73.3+ KB\n"
          ],
          "name": "stdout"
        }
      ]
    },
    {
      "cell_type": "code",
      "metadata": {
        "colab": {
          "base_uri": "https://localhost:8080/",
          "height": 300
        },
        "id": "PX1cJ8-rNVg1",
        "outputId": "3e12eb04-b6f6-41c5-a35f-37f08bee439b"
      },
      "source": [
        "medical_df.describe()"
      ],
      "execution_count": 14,
      "outputs": [
        {
          "output_type": "execute_result",
          "data": {
            "text/html": [
              "<div>\n",
              "<style scoped>\n",
              "    .dataframe tbody tr th:only-of-type {\n",
              "        vertical-align: middle;\n",
              "    }\n",
              "\n",
              "    .dataframe tbody tr th {\n",
              "        vertical-align: top;\n",
              "    }\n",
              "\n",
              "    .dataframe thead th {\n",
              "        text-align: right;\n",
              "    }\n",
              "</style>\n",
              "<table border=\"1\" class=\"dataframe\">\n",
              "  <thead>\n",
              "    <tr style=\"text-align: right;\">\n",
              "      <th></th>\n",
              "      <th>age</th>\n",
              "      <th>bmi</th>\n",
              "      <th>children</th>\n",
              "      <th>charges</th>\n",
              "    </tr>\n",
              "  </thead>\n",
              "  <tbody>\n",
              "    <tr>\n",
              "      <th>count</th>\n",
              "      <td>1338.000000</td>\n",
              "      <td>1338.000000</td>\n",
              "      <td>1338.000000</td>\n",
              "      <td>1338.000000</td>\n",
              "    </tr>\n",
              "    <tr>\n",
              "      <th>mean</th>\n",
              "      <td>39.207025</td>\n",
              "      <td>30.663397</td>\n",
              "      <td>1.094918</td>\n",
              "      <td>13270.422265</td>\n",
              "    </tr>\n",
              "    <tr>\n",
              "      <th>std</th>\n",
              "      <td>14.049960</td>\n",
              "      <td>6.098187</td>\n",
              "      <td>1.205493</td>\n",
              "      <td>12110.011237</td>\n",
              "    </tr>\n",
              "    <tr>\n",
              "      <th>min</th>\n",
              "      <td>18.000000</td>\n",
              "      <td>15.960000</td>\n",
              "      <td>0.000000</td>\n",
              "      <td>1121.873900</td>\n",
              "    </tr>\n",
              "    <tr>\n",
              "      <th>25%</th>\n",
              "      <td>27.000000</td>\n",
              "      <td>26.296250</td>\n",
              "      <td>0.000000</td>\n",
              "      <td>4740.287150</td>\n",
              "    </tr>\n",
              "    <tr>\n",
              "      <th>50%</th>\n",
              "      <td>39.000000</td>\n",
              "      <td>30.400000</td>\n",
              "      <td>1.000000</td>\n",
              "      <td>9382.033000</td>\n",
              "    </tr>\n",
              "    <tr>\n",
              "      <th>75%</th>\n",
              "      <td>51.000000</td>\n",
              "      <td>34.693750</td>\n",
              "      <td>2.000000</td>\n",
              "      <td>16639.912515</td>\n",
              "    </tr>\n",
              "    <tr>\n",
              "      <th>max</th>\n",
              "      <td>64.000000</td>\n",
              "      <td>53.130000</td>\n",
              "      <td>5.000000</td>\n",
              "      <td>63770.428010</td>\n",
              "    </tr>\n",
              "  </tbody>\n",
              "</table>\n",
              "</div>"
            ],
            "text/plain": [
              "               age          bmi     children       charges\n",
              "count  1338.000000  1338.000000  1338.000000   1338.000000\n",
              "mean     39.207025    30.663397     1.094918  13270.422265\n",
              "std      14.049960     6.098187     1.205493  12110.011237\n",
              "min      18.000000    15.960000     0.000000   1121.873900\n",
              "25%      27.000000    26.296250     0.000000   4740.287150\n",
              "50%      39.000000    30.400000     1.000000   9382.033000\n",
              "75%      51.000000    34.693750     2.000000  16639.912515\n",
              "max      64.000000    53.130000     5.000000  63770.428010"
            ]
          },
          "metadata": {
            "tags": []
          },
          "execution_count": 14
        }
      ]
    },
    {
      "cell_type": "markdown",
      "metadata": {
        "id": "P7rH5kNthlXz"
      },
      "source": [
        "Exploratory Analysis and Visualization\n",
        "Let's explore the data by visualizing the distribution of values in some columns of the dataset, and the relationships between \"charges\" and other columns.\n",
        "\n",
        "We'll use libraries Matplotlib, Seaborn and Plotly for visualization "
      ]
    },
    {
      "cell_type": "code",
      "metadata": {
        "id": "fzEsntCziJED"
      },
      "source": [
        "import plotly.express as px\n",
        "import matplotlib\n",
        "import matplotlib.pyplot as plt\n",
        "import seaborn as sns\n",
        "%matplotlib inline"
      ],
      "execution_count": 15,
      "outputs": []
    },
    {
      "cell_type": "markdown",
      "metadata": {
        "id": "aId7W7C6iSs-"
      },
      "source": [
        "**The following settings will improve the default style and font sizes for our charts**"
      ]
    },
    {
      "cell_type": "code",
      "metadata": {
        "id": "xlUVESGZiYdL"
      },
      "source": [
        "sns.set_style('darkgrid')\n",
        "matplotlib.rcParams['font.size'] = 14\n",
        "matplotlib.rcParams['figure.figsize'] = (10, 6)\n",
        "matplotlib.rcParams['figure.facecolor'] = '#00000000'"
      ],
      "execution_count": 16,
      "outputs": []
    },
    {
      "cell_type": "markdown",
      "metadata": {
        "id": "jgaP_cY7igXy"
      },
      "source": [
        "**Age**\n",
        "\n",
        "Age is a numeric column. The minimum age in the dataset is 18 and the maximum age is 64. Thus, we can visualize the distribution of age using a histogram with 47 bins (one for each year) and a box plot. We'll use plotly to make the chart interactive, but you can create similar charts using Seaborn."
      ]
    },
    {
      "cell_type": "code",
      "metadata": {
        "colab": {
          "base_uri": "https://localhost:8080/"
        },
        "id": "2o_Wke7vinpT",
        "outputId": "257fa529-ffc6-48d2-926c-5a668bf2ec3f"
      },
      "source": [
        "medical_df.age.describe()"
      ],
      "execution_count": 17,
      "outputs": [
        {
          "output_type": "execute_result",
          "data": {
            "text/plain": [
              "count    1338.000000\n",
              "mean       39.207025\n",
              "std        14.049960\n",
              "min        18.000000\n",
              "25%        27.000000\n",
              "50%        39.000000\n",
              "75%        51.000000\n",
              "max        64.000000\n",
              "Name: age, dtype: float64"
            ]
          },
          "metadata": {
            "tags": []
          },
          "execution_count": 17
        }
      ]
    },
    {
      "cell_type": "code",
      "metadata": {
        "colab": {
          "base_uri": "https://localhost:8080/",
          "height": 542
        },
        "id": "n3jQOnYqixef",
        "outputId": "1398b49a-2110-4905-e7dc-8896fe3ff555"
      },
      "source": [
        "fig = px.histogram(medical_df, \n",
        "                   x='age', \n",
        "                   marginal='box', \n",
        "                   nbins=47, \n",
        "                   title='Distribution of Age')\n",
        "fig.update_layout(bargap=0.1)\n",
        "fig.show()"
      ],
      "execution_count": 18,
      "outputs": [
        {
          "output_type": "display_data",
          "data": {
            "text/html": [
              "<html>\n",
              "<head><meta charset=\"utf-8\" /></head>\n",
              "<body>\n",
              "    <div>\n",
              "            <script src=\"https://cdnjs.cloudflare.com/ajax/libs/mathjax/2.7.5/MathJax.js?config=TeX-AMS-MML_SVG\"></script><script type=\"text/javascript\">if (window.MathJax) {MathJax.Hub.Config({SVG: {font: \"STIX-Web\"}});}</script>\n",
              "                <script type=\"text/javascript\">window.PlotlyConfig = {MathJaxConfig: 'local'};</script>\n",
              "        <script src=\"https://cdn.plot.ly/plotly-latest.min.js\"></script>    \n",
              "            <div id=\"45661309-3319-41e0-b1ed-8e1f6a37cbea\" class=\"plotly-graph-div\" style=\"height:525px; width:100%;\"></div>\n",
              "            <script type=\"text/javascript\">\n",
              "                \n",
              "                    window.PLOTLYENV=window.PLOTLYENV || {};\n",
              "                    \n",
              "                if (document.getElementById(\"45661309-3319-41e0-b1ed-8e1f6a37cbea\")) {\n",
              "                    Plotly.newPlot(\n",
              "                        '45661309-3319-41e0-b1ed-8e1f6a37cbea',\n",
              "                        [{\"alignmentgroup\": \"True\", \"bingroup\": \"x\", \"hoverlabel\": {\"namelength\": 0}, \"hovertemplate\": \"age=%{x}<br>count=%{y}\", \"legendgroup\": \"\", \"marker\": {\"color\": \"#636efa\"}, \"name\": \"\", \"nbinsx\": 47, \"offsetgroup\": \"\", \"orientation\": \"v\", \"showlegend\": false, \"type\": \"histogram\", \"x\": [19, 18, 28, 33, 32, 31, 46, 37, 37, 60, 25, 62, 23, 56, 27, 19, 52, 23, 56, 30, 60, 30, 18, 34, 37, 59, 63, 55, 23, 31, 22, 18, 19, 63, 28, 19, 62, 26, 35, 60, 24, 31, 41, 37, 38, 55, 18, 28, 60, 36, 18, 21, 48, 36, 40, 58, 58, 18, 53, 34, 43, 25, 64, 28, 20, 19, 61, 40, 40, 28, 27, 31, 53, 58, 44, 57, 29, 21, 22, 41, 31, 45, 22, 48, 37, 45, 57, 56, 46, 55, 21, 53, 59, 35, 64, 28, 54, 55, 56, 38, 41, 30, 18, 61, 34, 20, 19, 26, 29, 63, 54, 55, 37, 21, 52, 60, 58, 29, 49, 37, 44, 18, 20, 44, 47, 26, 19, 52, 32, 38, 59, 61, 53, 19, 20, 22, 19, 22, 54, 22, 34, 26, 34, 29, 30, 29, 46, 51, 53, 19, 35, 48, 32, 42, 40, 44, 48, 18, 30, 50, 42, 18, 54, 32, 37, 47, 20, 32, 19, 27, 63, 49, 18, 35, 24, 63, 38, 54, 46, 41, 58, 18, 22, 44, 44, 36, 26, 30, 41, 29, 61, 36, 25, 56, 18, 19, 39, 45, 51, 64, 19, 48, 60, 27, 46, 28, 59, 35, 63, 40, 20, 40, 24, 34, 45, 41, 53, 27, 26, 24, 34, 53, 32, 19, 42, 55, 28, 58, 41, 47, 42, 59, 19, 59, 39, 40, 18, 31, 19, 44, 23, 33, 55, 40, 63, 54, 60, 24, 19, 29, 18, 63, 54, 27, 50, 55, 56, 38, 51, 19, 58, 20, 52, 19, 53, 46, 40, 59, 45, 49, 18, 50, 41, 50, 25, 47, 19, 22, 59, 51, 40, 54, 30, 55, 52, 46, 46, 63, 59, 52, 28, 29, 25, 22, 25, 18, 19, 47, 31, 48, 36, 53, 56, 28, 57, 29, 28, 30, 58, 41, 50, 19, 43, 49, 27, 52, 50, 54, 44, 32, 34, 26, 34, 57, 29, 40, 27, 45, 64, 52, 61, 52, 61, 56, 43, 64, 60, 62, 50, 46, 24, 62, 60, 63, 49, 34, 33, 46, 36, 19, 57, 50, 30, 33, 18, 46, 46, 47, 23, 18, 48, 35, 19, 21, 21, 49, 56, 42, 44, 18, 61, 57, 42, 26, 20, 23, 39, 24, 64, 62, 27, 55, 55, 35, 44, 19, 58, 50, 26, 24, 48, 19, 48, 49, 46, 46, 43, 21, 64, 18, 51, 47, 64, 49, 31, 52, 33, 47, 38, 32, 19, 44, 26, 25, 19, 43, 52, 36, 64, 63, 64, 61, 40, 25, 48, 45, 38, 18, 21, 27, 19, 29, 42, 60, 31, 60, 22, 35, 52, 26, 31, 33, 18, 59, 56, 45, 60, 56, 40, 35, 39, 30, 24, 20, 32, 59, 55, 57, 56, 40, 49, 42, 62, 56, 19, 30, 60, 56, 28, 18, 27, 18, 19, 47, 54, 61, 24, 25, 21, 23, 63, 49, 18, 51, 48, 31, 54, 19, 44, 53, 19, 61, 18, 61, 21, 20, 31, 45, 44, 62, 29, 43, 51, 19, 38, 37, 22, 21, 24, 57, 56, 27, 51, 19, 39, 58, 20, 45, 35, 31, 50, 32, 51, 38, 42, 18, 19, 51, 46, 18, 57, 62, 59, 37, 64, 38, 33, 46, 46, 53, 34, 20, 63, 54, 54, 49, 28, 54, 25, 43, 63, 32, 62, 52, 25, 28, 46, 34, 35, 19, 46, 54, 27, 50, 18, 19, 38, 41, 49, 48, 31, 18, 30, 62, 57, 58, 22, 31, 52, 25, 59, 19, 39, 32, 19, 33, 21, 34, 61, 38, 58, 47, 20, 21, 41, 46, 42, 34, 43, 52, 18, 51, 56, 64, 19, 51, 27, 59, 28, 30, 47, 38, 18, 34, 20, 47, 56, 49, 19, 55, 30, 37, 49, 18, 59, 29, 36, 33, 58, 44, 53, 24, 29, 40, 51, 64, 19, 35, 39, 56, 33, 42, 61, 23, 43, 48, 39, 40, 18, 58, 49, 53, 48, 45, 59, 52, 26, 27, 48, 57, 37, 57, 32, 18, 64, 43, 49, 40, 62, 40, 30, 29, 36, 41, 44, 45, 55, 60, 56, 49, 21, 19, 39, 53, 33, 53, 42, 40, 47, 27, 21, 47, 20, 24, 27, 26, 53, 41, 56, 23, 21, 50, 53, 34, 47, 33, 51, 49, 31, 36, 18, 50, 43, 20, 24, 60, 49, 60, 51, 58, 51, 53, 62, 19, 50, 30, 41, 29, 18, 41, 35, 53, 24, 48, 59, 49, 37, 26, 23, 29, 45, 27, 53, 31, 50, 50, 34, 19, 47, 28, 37, 21, 64, 58, 24, 31, 39, 47, 30, 18, 22, 23, 33, 27, 45, 57, 47, 42, 64, 38, 61, 53, 44, 19, 41, 51, 40, 45, 35, 53, 30, 18, 51, 50, 31, 35, 60, 21, 29, 62, 39, 19, 22, 53, 39, 27, 30, 30, 58, 33, 42, 64, 21, 18, 23, 45, 40, 19, 18, 25, 46, 33, 54, 28, 36, 20, 24, 23, 47, 33, 45, 26, 18, 44, 60, 64, 56, 36, 41, 39, 63, 36, 28, 58, 36, 42, 36, 56, 35, 59, 21, 59, 23, 57, 53, 60, 51, 23, 27, 55, 37, 61, 46, 53, 49, 20, 48, 25, 25, 57, 37, 38, 55, 36, 51, 40, 18, 57, 61, 25, 50, 26, 42, 43, 44, 23, 49, 33, 41, 37, 22, 23, 21, 51, 25, 32, 57, 36, 22, 57, 64, 36, 54, 47, 62, 61, 43, 19, 18, 19, 49, 60, 26, 49, 60, 26, 27, 44, 63, 32, 22, 18, 59, 44, 33, 24, 43, 45, 61, 35, 62, 62, 38, 34, 43, 50, 19, 57, 62, 41, 26, 39, 46, 45, 32, 59, 44, 39, 18, 53, 18, 50, 18, 19, 62, 56, 42, 37, 42, 25, 57, 51, 30, 44, 34, 31, 54, 24, 43, 48, 19, 29, 63, 46, 52, 35, 51, 44, 21, 39, 50, 34, 22, 19, 26, 29, 48, 26, 45, 36, 54, 34, 31, 27, 20, 44, 43, 45, 34, 24, 26, 38, 50, 38, 27, 39, 39, 63, 33, 36, 30, 24, 24, 48, 47, 29, 28, 47, 25, 51, 48, 43, 61, 48, 38, 59, 19, 26, 54, 21, 51, 22, 47, 18, 47, 21, 19, 23, 54, 37, 46, 55, 30, 18, 61, 54, 22, 45, 22, 19, 35, 18, 20, 28, 55, 43, 43, 22, 25, 49, 44, 64, 49, 47, 27, 55, 48, 45, 24, 32, 24, 57, 59, 36, 29, 42, 48, 39, 63, 54, 37, 63, 21, 54, 60, 32, 47, 21, 28, 63, 18, 32, 38, 32, 62, 39, 55, 57, 52, 56, 47, 55, 23, 22, 50, 18, 51, 22, 52, 25, 33, 53, 29, 58, 37, 54, 49, 50, 26, 45, 54, 38, 48, 28, 23, 55, 41, 25, 33, 30, 23, 46, 53, 27, 23, 63, 55, 35, 34, 19, 39, 27, 57, 52, 28, 50, 44, 26, 33, 19, 50, 41, 52, 39, 50, 52, 60, 20, 55, 42, 18, 58, 43, 35, 48, 36, 19, 23, 20, 32, 43, 34, 30, 18, 41, 35, 57, 29, 32, 37, 18, 43, 56, 38, 29, 22, 52, 40, 23, 31, 42, 24, 25, 48, 23, 45, 20, 62, 43, 23, 31, 41, 58, 48, 31, 19, 19, 41, 40, 31, 37, 46, 22, 51, 18, 35, 59, 36, 37, 59, 36, 39, 18, 52, 27, 18, 40, 29, 46, 38, 30, 40, 50, 20, 41, 33, 38, 42, 56, 58, 52, 20, 54, 58, 45, 26, 63, 58, 37, 25, 52, 64, 22, 28, 18, 28, 45, 33, 18, 32, 24, 19, 20, 40, 34, 42, 51, 54, 55, 52, 32, 28, 41, 43, 49, 64, 55, 24, 20, 45, 26, 25, 43, 35, 26, 57, 22, 32, 39, 25, 48, 47, 18, 18, 61, 47, 28, 36, 20, 44, 38, 19, 21, 46, 58, 20, 18, 28, 33, 19, 45, 62, 25, 43, 42, 24, 29, 32, 25, 41, 42, 33, 34, 19, 30, 18, 19, 18, 35, 39, 31, 62, 62, 42, 31, 61, 42, 51, 23, 52, 57, 23, 52, 50, 18, 18, 21, 61], \"xaxis\": \"x\", \"yaxis\": \"y\"}, {\"alignmentgroup\": \"True\", \"hoverlabel\": {\"namelength\": 0}, \"hovertemplate\": \"age=%{x}\", \"legendgroup\": \"\", \"marker\": {\"color\": \"#636efa\"}, \"name\": \"\", \"notched\": true, \"offsetgroup\": \"\", \"showlegend\": false, \"type\": \"box\", \"x\": [19, 18, 28, 33, 32, 31, 46, 37, 37, 60, 25, 62, 23, 56, 27, 19, 52, 23, 56, 30, 60, 30, 18, 34, 37, 59, 63, 55, 23, 31, 22, 18, 19, 63, 28, 19, 62, 26, 35, 60, 24, 31, 41, 37, 38, 55, 18, 28, 60, 36, 18, 21, 48, 36, 40, 58, 58, 18, 53, 34, 43, 25, 64, 28, 20, 19, 61, 40, 40, 28, 27, 31, 53, 58, 44, 57, 29, 21, 22, 41, 31, 45, 22, 48, 37, 45, 57, 56, 46, 55, 21, 53, 59, 35, 64, 28, 54, 55, 56, 38, 41, 30, 18, 61, 34, 20, 19, 26, 29, 63, 54, 55, 37, 21, 52, 60, 58, 29, 49, 37, 44, 18, 20, 44, 47, 26, 19, 52, 32, 38, 59, 61, 53, 19, 20, 22, 19, 22, 54, 22, 34, 26, 34, 29, 30, 29, 46, 51, 53, 19, 35, 48, 32, 42, 40, 44, 48, 18, 30, 50, 42, 18, 54, 32, 37, 47, 20, 32, 19, 27, 63, 49, 18, 35, 24, 63, 38, 54, 46, 41, 58, 18, 22, 44, 44, 36, 26, 30, 41, 29, 61, 36, 25, 56, 18, 19, 39, 45, 51, 64, 19, 48, 60, 27, 46, 28, 59, 35, 63, 40, 20, 40, 24, 34, 45, 41, 53, 27, 26, 24, 34, 53, 32, 19, 42, 55, 28, 58, 41, 47, 42, 59, 19, 59, 39, 40, 18, 31, 19, 44, 23, 33, 55, 40, 63, 54, 60, 24, 19, 29, 18, 63, 54, 27, 50, 55, 56, 38, 51, 19, 58, 20, 52, 19, 53, 46, 40, 59, 45, 49, 18, 50, 41, 50, 25, 47, 19, 22, 59, 51, 40, 54, 30, 55, 52, 46, 46, 63, 59, 52, 28, 29, 25, 22, 25, 18, 19, 47, 31, 48, 36, 53, 56, 28, 57, 29, 28, 30, 58, 41, 50, 19, 43, 49, 27, 52, 50, 54, 44, 32, 34, 26, 34, 57, 29, 40, 27, 45, 64, 52, 61, 52, 61, 56, 43, 64, 60, 62, 50, 46, 24, 62, 60, 63, 49, 34, 33, 46, 36, 19, 57, 50, 30, 33, 18, 46, 46, 47, 23, 18, 48, 35, 19, 21, 21, 49, 56, 42, 44, 18, 61, 57, 42, 26, 20, 23, 39, 24, 64, 62, 27, 55, 55, 35, 44, 19, 58, 50, 26, 24, 48, 19, 48, 49, 46, 46, 43, 21, 64, 18, 51, 47, 64, 49, 31, 52, 33, 47, 38, 32, 19, 44, 26, 25, 19, 43, 52, 36, 64, 63, 64, 61, 40, 25, 48, 45, 38, 18, 21, 27, 19, 29, 42, 60, 31, 60, 22, 35, 52, 26, 31, 33, 18, 59, 56, 45, 60, 56, 40, 35, 39, 30, 24, 20, 32, 59, 55, 57, 56, 40, 49, 42, 62, 56, 19, 30, 60, 56, 28, 18, 27, 18, 19, 47, 54, 61, 24, 25, 21, 23, 63, 49, 18, 51, 48, 31, 54, 19, 44, 53, 19, 61, 18, 61, 21, 20, 31, 45, 44, 62, 29, 43, 51, 19, 38, 37, 22, 21, 24, 57, 56, 27, 51, 19, 39, 58, 20, 45, 35, 31, 50, 32, 51, 38, 42, 18, 19, 51, 46, 18, 57, 62, 59, 37, 64, 38, 33, 46, 46, 53, 34, 20, 63, 54, 54, 49, 28, 54, 25, 43, 63, 32, 62, 52, 25, 28, 46, 34, 35, 19, 46, 54, 27, 50, 18, 19, 38, 41, 49, 48, 31, 18, 30, 62, 57, 58, 22, 31, 52, 25, 59, 19, 39, 32, 19, 33, 21, 34, 61, 38, 58, 47, 20, 21, 41, 46, 42, 34, 43, 52, 18, 51, 56, 64, 19, 51, 27, 59, 28, 30, 47, 38, 18, 34, 20, 47, 56, 49, 19, 55, 30, 37, 49, 18, 59, 29, 36, 33, 58, 44, 53, 24, 29, 40, 51, 64, 19, 35, 39, 56, 33, 42, 61, 23, 43, 48, 39, 40, 18, 58, 49, 53, 48, 45, 59, 52, 26, 27, 48, 57, 37, 57, 32, 18, 64, 43, 49, 40, 62, 40, 30, 29, 36, 41, 44, 45, 55, 60, 56, 49, 21, 19, 39, 53, 33, 53, 42, 40, 47, 27, 21, 47, 20, 24, 27, 26, 53, 41, 56, 23, 21, 50, 53, 34, 47, 33, 51, 49, 31, 36, 18, 50, 43, 20, 24, 60, 49, 60, 51, 58, 51, 53, 62, 19, 50, 30, 41, 29, 18, 41, 35, 53, 24, 48, 59, 49, 37, 26, 23, 29, 45, 27, 53, 31, 50, 50, 34, 19, 47, 28, 37, 21, 64, 58, 24, 31, 39, 47, 30, 18, 22, 23, 33, 27, 45, 57, 47, 42, 64, 38, 61, 53, 44, 19, 41, 51, 40, 45, 35, 53, 30, 18, 51, 50, 31, 35, 60, 21, 29, 62, 39, 19, 22, 53, 39, 27, 30, 30, 58, 33, 42, 64, 21, 18, 23, 45, 40, 19, 18, 25, 46, 33, 54, 28, 36, 20, 24, 23, 47, 33, 45, 26, 18, 44, 60, 64, 56, 36, 41, 39, 63, 36, 28, 58, 36, 42, 36, 56, 35, 59, 21, 59, 23, 57, 53, 60, 51, 23, 27, 55, 37, 61, 46, 53, 49, 20, 48, 25, 25, 57, 37, 38, 55, 36, 51, 40, 18, 57, 61, 25, 50, 26, 42, 43, 44, 23, 49, 33, 41, 37, 22, 23, 21, 51, 25, 32, 57, 36, 22, 57, 64, 36, 54, 47, 62, 61, 43, 19, 18, 19, 49, 60, 26, 49, 60, 26, 27, 44, 63, 32, 22, 18, 59, 44, 33, 24, 43, 45, 61, 35, 62, 62, 38, 34, 43, 50, 19, 57, 62, 41, 26, 39, 46, 45, 32, 59, 44, 39, 18, 53, 18, 50, 18, 19, 62, 56, 42, 37, 42, 25, 57, 51, 30, 44, 34, 31, 54, 24, 43, 48, 19, 29, 63, 46, 52, 35, 51, 44, 21, 39, 50, 34, 22, 19, 26, 29, 48, 26, 45, 36, 54, 34, 31, 27, 20, 44, 43, 45, 34, 24, 26, 38, 50, 38, 27, 39, 39, 63, 33, 36, 30, 24, 24, 48, 47, 29, 28, 47, 25, 51, 48, 43, 61, 48, 38, 59, 19, 26, 54, 21, 51, 22, 47, 18, 47, 21, 19, 23, 54, 37, 46, 55, 30, 18, 61, 54, 22, 45, 22, 19, 35, 18, 20, 28, 55, 43, 43, 22, 25, 49, 44, 64, 49, 47, 27, 55, 48, 45, 24, 32, 24, 57, 59, 36, 29, 42, 48, 39, 63, 54, 37, 63, 21, 54, 60, 32, 47, 21, 28, 63, 18, 32, 38, 32, 62, 39, 55, 57, 52, 56, 47, 55, 23, 22, 50, 18, 51, 22, 52, 25, 33, 53, 29, 58, 37, 54, 49, 50, 26, 45, 54, 38, 48, 28, 23, 55, 41, 25, 33, 30, 23, 46, 53, 27, 23, 63, 55, 35, 34, 19, 39, 27, 57, 52, 28, 50, 44, 26, 33, 19, 50, 41, 52, 39, 50, 52, 60, 20, 55, 42, 18, 58, 43, 35, 48, 36, 19, 23, 20, 32, 43, 34, 30, 18, 41, 35, 57, 29, 32, 37, 18, 43, 56, 38, 29, 22, 52, 40, 23, 31, 42, 24, 25, 48, 23, 45, 20, 62, 43, 23, 31, 41, 58, 48, 31, 19, 19, 41, 40, 31, 37, 46, 22, 51, 18, 35, 59, 36, 37, 59, 36, 39, 18, 52, 27, 18, 40, 29, 46, 38, 30, 40, 50, 20, 41, 33, 38, 42, 56, 58, 52, 20, 54, 58, 45, 26, 63, 58, 37, 25, 52, 64, 22, 28, 18, 28, 45, 33, 18, 32, 24, 19, 20, 40, 34, 42, 51, 54, 55, 52, 32, 28, 41, 43, 49, 64, 55, 24, 20, 45, 26, 25, 43, 35, 26, 57, 22, 32, 39, 25, 48, 47, 18, 18, 61, 47, 28, 36, 20, 44, 38, 19, 21, 46, 58, 20, 18, 28, 33, 19, 45, 62, 25, 43, 42, 24, 29, 32, 25, 41, 42, 33, 34, 19, 30, 18, 19, 18, 35, 39, 31, 62, 62, 42, 31, 61, 42, 51, 23, 52, 57, 23, 52, 50, 18, 18, 21, 61], \"xaxis\": \"x2\", \"yaxis\": \"y2\"}],\n",
              "                        {\"bargap\": 0.1, \"barmode\": \"relative\", \"legend\": {\"tracegroupgap\": 0}, \"template\": {\"data\": {\"bar\": [{\"error_x\": {\"color\": \"#2a3f5f\"}, \"error_y\": {\"color\": \"#2a3f5f\"}, \"marker\": {\"line\": {\"color\": \"#E5ECF6\", \"width\": 0.5}}, \"type\": \"bar\"}], \"barpolar\": [{\"marker\": {\"line\": {\"color\": \"#E5ECF6\", \"width\": 0.5}}, \"type\": \"barpolar\"}], \"carpet\": [{\"aaxis\": {\"endlinecolor\": \"#2a3f5f\", \"gridcolor\": \"white\", \"linecolor\": \"white\", \"minorgridcolor\": \"white\", \"startlinecolor\": \"#2a3f5f\"}, \"baxis\": {\"endlinecolor\": \"#2a3f5f\", \"gridcolor\": \"white\", \"linecolor\": \"white\", \"minorgridcolor\": \"white\", \"startlinecolor\": \"#2a3f5f\"}, \"type\": \"carpet\"}], \"choropleth\": [{\"colorbar\": {\"outlinewidth\": 0, \"ticks\": \"\"}, \"type\": \"choropleth\"}], \"contour\": [{\"colorbar\": {\"outlinewidth\": 0, \"ticks\": \"\"}, \"colorscale\": [[0.0, \"#0d0887\"], [0.1111111111111111, \"#46039f\"], [0.2222222222222222, \"#7201a8\"], [0.3333333333333333, \"#9c179e\"], [0.4444444444444444, \"#bd3786\"], [0.5555555555555556, \"#d8576b\"], [0.6666666666666666, \"#ed7953\"], [0.7777777777777778, \"#fb9f3a\"], [0.8888888888888888, \"#fdca26\"], [1.0, \"#f0f921\"]], \"type\": \"contour\"}], \"contourcarpet\": [{\"colorbar\": {\"outlinewidth\": 0, \"ticks\": \"\"}, \"type\": \"contourcarpet\"}], \"heatmap\": [{\"colorbar\": {\"outlinewidth\": 0, \"ticks\": \"\"}, \"colorscale\": [[0.0, \"#0d0887\"], [0.1111111111111111, \"#46039f\"], [0.2222222222222222, \"#7201a8\"], [0.3333333333333333, \"#9c179e\"], [0.4444444444444444, \"#bd3786\"], [0.5555555555555556, \"#d8576b\"], [0.6666666666666666, \"#ed7953\"], [0.7777777777777778, \"#fb9f3a\"], [0.8888888888888888, \"#fdca26\"], [1.0, \"#f0f921\"]], \"type\": \"heatmap\"}], \"heatmapgl\": [{\"colorbar\": {\"outlinewidth\": 0, \"ticks\": \"\"}, \"colorscale\": [[0.0, \"#0d0887\"], [0.1111111111111111, \"#46039f\"], [0.2222222222222222, \"#7201a8\"], [0.3333333333333333, \"#9c179e\"], [0.4444444444444444, \"#bd3786\"], [0.5555555555555556, \"#d8576b\"], [0.6666666666666666, \"#ed7953\"], [0.7777777777777778, \"#fb9f3a\"], [0.8888888888888888, \"#fdca26\"], [1.0, \"#f0f921\"]], \"type\": \"heatmapgl\"}], \"histogram\": [{\"marker\": {\"colorbar\": {\"outlinewidth\": 0, \"ticks\": \"\"}}, \"type\": \"histogram\"}], \"histogram2d\": [{\"colorbar\": {\"outlinewidth\": 0, \"ticks\": \"\"}, \"colorscale\": [[0.0, \"#0d0887\"], [0.1111111111111111, \"#46039f\"], [0.2222222222222222, \"#7201a8\"], [0.3333333333333333, \"#9c179e\"], [0.4444444444444444, \"#bd3786\"], [0.5555555555555556, \"#d8576b\"], [0.6666666666666666, \"#ed7953\"], [0.7777777777777778, \"#fb9f3a\"], [0.8888888888888888, \"#fdca26\"], [1.0, \"#f0f921\"]], \"type\": \"histogram2d\"}], \"histogram2dcontour\": [{\"colorbar\": {\"outlinewidth\": 0, \"ticks\": \"\"}, \"colorscale\": [[0.0, \"#0d0887\"], [0.1111111111111111, \"#46039f\"], [0.2222222222222222, \"#7201a8\"], [0.3333333333333333, \"#9c179e\"], [0.4444444444444444, \"#bd3786\"], [0.5555555555555556, \"#d8576b\"], [0.6666666666666666, \"#ed7953\"], [0.7777777777777778, \"#fb9f3a\"], [0.8888888888888888, \"#fdca26\"], [1.0, \"#f0f921\"]], \"type\": \"histogram2dcontour\"}], \"mesh3d\": [{\"colorbar\": {\"outlinewidth\": 0, \"ticks\": \"\"}, \"type\": \"mesh3d\"}], \"parcoords\": [{\"line\": {\"colorbar\": {\"outlinewidth\": 0, \"ticks\": \"\"}}, \"type\": \"parcoords\"}], \"pie\": [{\"automargin\": true, \"type\": \"pie\"}], \"scatter\": [{\"marker\": {\"colorbar\": {\"outlinewidth\": 0, \"ticks\": \"\"}}, \"type\": \"scatter\"}], \"scatter3d\": [{\"line\": {\"colorbar\": {\"outlinewidth\": 0, \"ticks\": \"\"}}, \"marker\": {\"colorbar\": {\"outlinewidth\": 0, \"ticks\": \"\"}}, \"type\": \"scatter3d\"}], \"scattercarpet\": [{\"marker\": {\"colorbar\": {\"outlinewidth\": 0, \"ticks\": \"\"}}, \"type\": \"scattercarpet\"}], \"scattergeo\": [{\"marker\": {\"colorbar\": {\"outlinewidth\": 0, \"ticks\": \"\"}}, \"type\": \"scattergeo\"}], \"scattergl\": [{\"marker\": {\"colorbar\": {\"outlinewidth\": 0, \"ticks\": \"\"}}, \"type\": \"scattergl\"}], \"scattermapbox\": [{\"marker\": {\"colorbar\": {\"outlinewidth\": 0, \"ticks\": \"\"}}, \"type\": \"scattermapbox\"}], \"scatterpolar\": [{\"marker\": {\"colorbar\": {\"outlinewidth\": 0, \"ticks\": \"\"}}, \"type\": \"scatterpolar\"}], \"scatterpolargl\": [{\"marker\": {\"colorbar\": {\"outlinewidth\": 0, \"ticks\": \"\"}}, \"type\": \"scatterpolargl\"}], \"scatterternary\": [{\"marker\": {\"colorbar\": {\"outlinewidth\": 0, \"ticks\": \"\"}}, \"type\": \"scatterternary\"}], \"surface\": [{\"colorbar\": {\"outlinewidth\": 0, \"ticks\": \"\"}, \"colorscale\": [[0.0, \"#0d0887\"], [0.1111111111111111, \"#46039f\"], [0.2222222222222222, \"#7201a8\"], [0.3333333333333333, \"#9c179e\"], [0.4444444444444444, \"#bd3786\"], [0.5555555555555556, \"#d8576b\"], [0.6666666666666666, \"#ed7953\"], [0.7777777777777778, \"#fb9f3a\"], [0.8888888888888888, \"#fdca26\"], [1.0, \"#f0f921\"]], \"type\": \"surface\"}], \"table\": [{\"cells\": {\"fill\": {\"color\": \"#EBF0F8\"}, \"line\": {\"color\": \"white\"}}, \"header\": {\"fill\": {\"color\": \"#C8D4E3\"}, \"line\": {\"color\": \"white\"}}, \"type\": \"table\"}]}, \"layout\": {\"annotationdefaults\": {\"arrowcolor\": \"#2a3f5f\", \"arrowhead\": 0, \"arrowwidth\": 1}, \"coloraxis\": {\"colorbar\": {\"outlinewidth\": 0, \"ticks\": \"\"}}, \"colorscale\": {\"diverging\": [[0, \"#8e0152\"], [0.1, \"#c51b7d\"], [0.2, \"#de77ae\"], [0.3, \"#f1b6da\"], [0.4, \"#fde0ef\"], [0.5, \"#f7f7f7\"], [0.6, \"#e6f5d0\"], [0.7, \"#b8e186\"], [0.8, \"#7fbc41\"], [0.9, \"#4d9221\"], [1, \"#276419\"]], \"sequential\": [[0.0, \"#0d0887\"], [0.1111111111111111, \"#46039f\"], [0.2222222222222222, \"#7201a8\"], [0.3333333333333333, \"#9c179e\"], [0.4444444444444444, \"#bd3786\"], [0.5555555555555556, \"#d8576b\"], [0.6666666666666666, \"#ed7953\"], [0.7777777777777778, \"#fb9f3a\"], [0.8888888888888888, \"#fdca26\"], [1.0, \"#f0f921\"]], \"sequentialminus\": [[0.0, \"#0d0887\"], [0.1111111111111111, \"#46039f\"], [0.2222222222222222, \"#7201a8\"], [0.3333333333333333, \"#9c179e\"], [0.4444444444444444, \"#bd3786\"], [0.5555555555555556, \"#d8576b\"], [0.6666666666666666, \"#ed7953\"], [0.7777777777777778, \"#fb9f3a\"], [0.8888888888888888, \"#fdca26\"], [1.0, \"#f0f921\"]]}, \"colorway\": [\"#636efa\", \"#EF553B\", \"#00cc96\", \"#ab63fa\", \"#FFA15A\", \"#19d3f3\", \"#FF6692\", \"#B6E880\", \"#FF97FF\", \"#FECB52\"], \"font\": {\"color\": \"#2a3f5f\"}, \"geo\": {\"bgcolor\": \"white\", \"lakecolor\": \"white\", \"landcolor\": \"#E5ECF6\", \"showlakes\": true, \"showland\": true, \"subunitcolor\": \"white\"}, \"hoverlabel\": {\"align\": \"left\"}, \"hovermode\": \"closest\", \"mapbox\": {\"style\": \"light\"}, \"paper_bgcolor\": \"white\", \"plot_bgcolor\": \"#E5ECF6\", \"polar\": {\"angularaxis\": {\"gridcolor\": \"white\", \"linecolor\": \"white\", \"ticks\": \"\"}, \"bgcolor\": \"#E5ECF6\", \"radialaxis\": {\"gridcolor\": \"white\", \"linecolor\": \"white\", \"ticks\": \"\"}}, \"scene\": {\"xaxis\": {\"backgroundcolor\": \"#E5ECF6\", \"gridcolor\": \"white\", \"gridwidth\": 2, \"linecolor\": \"white\", \"showbackground\": true, \"ticks\": \"\", \"zerolinecolor\": \"white\"}, \"yaxis\": {\"backgroundcolor\": \"#E5ECF6\", \"gridcolor\": \"white\", \"gridwidth\": 2, \"linecolor\": \"white\", \"showbackground\": true, \"ticks\": \"\", \"zerolinecolor\": \"white\"}, \"zaxis\": {\"backgroundcolor\": \"#E5ECF6\", \"gridcolor\": \"white\", \"gridwidth\": 2, \"linecolor\": \"white\", \"showbackground\": true, \"ticks\": \"\", \"zerolinecolor\": \"white\"}}, \"shapedefaults\": {\"line\": {\"color\": \"#2a3f5f\"}}, \"ternary\": {\"aaxis\": {\"gridcolor\": \"white\", \"linecolor\": \"white\", \"ticks\": \"\"}, \"baxis\": {\"gridcolor\": \"white\", \"linecolor\": \"white\", \"ticks\": \"\"}, \"bgcolor\": \"#E5ECF6\", \"caxis\": {\"gridcolor\": \"white\", \"linecolor\": \"white\", \"ticks\": \"\"}}, \"title\": {\"x\": 0.05}, \"xaxis\": {\"automargin\": true, \"gridcolor\": \"white\", \"linecolor\": \"white\", \"ticks\": \"\", \"title\": {\"standoff\": 15}, \"zerolinecolor\": \"white\", \"zerolinewidth\": 2}, \"yaxis\": {\"automargin\": true, \"gridcolor\": \"white\", \"linecolor\": \"white\", \"ticks\": \"\", \"title\": {\"standoff\": 15}, \"zerolinecolor\": \"white\", \"zerolinewidth\": 2}}}, \"title\": {\"text\": \"Distribution of Age\"}, \"xaxis\": {\"anchor\": \"y\", \"domain\": [0.0, 1.0], \"title\": {\"text\": \"age\"}}, \"xaxis2\": {\"anchor\": \"y2\", \"domain\": [0.0, 1.0], \"matches\": \"x\", \"showgrid\": true, \"showticklabels\": false}, \"yaxis\": {\"anchor\": \"x\", \"domain\": [0.0, 0.8316], \"title\": {\"text\": \"count\"}}, \"yaxis2\": {\"anchor\": \"x2\", \"domain\": [0.8416, 1.0], \"matches\": \"y2\", \"showgrid\": false, \"showline\": false, \"showticklabels\": false, \"ticks\": \"\"}},\n",
              "                        {\"responsive\": true}\n",
              "                    ).then(function(){\n",
              "                            \n",
              "var gd = document.getElementById('45661309-3319-41e0-b1ed-8e1f6a37cbea');\n",
              "var x = new MutationObserver(function (mutations, observer) {{\n",
              "        var display = window.getComputedStyle(gd).display;\n",
              "        if (!display || display === 'none') {{\n",
              "            console.log([gd, 'removed!']);\n",
              "            Plotly.purge(gd);\n",
              "            observer.disconnect();\n",
              "        }}\n",
              "}});\n",
              "\n",
              "// Listen for the removal of the full notebook cells\n",
              "var notebookContainer = gd.closest('#notebook-container');\n",
              "if (notebookContainer) {{\n",
              "    x.observe(notebookContainer, {childList: true});\n",
              "}}\n",
              "\n",
              "// Listen for the clearing of the current output cell\n",
              "var outputEl = gd.closest('.output');\n",
              "if (outputEl) {{\n",
              "    x.observe(outputEl, {childList: true});\n",
              "}}\n",
              "\n",
              "                        })\n",
              "                };\n",
              "                \n",
              "            </script>\n",
              "        </div>\n",
              "</body>\n",
              "</html>"
            ]
          },
          "metadata": {
            "tags": []
          }
        }
      ]
    },
    {
      "cell_type": "markdown",
      "metadata": {
        "id": "hSM81yADjlsP"
      },
      "source": [
        "The distribution of ages in the dataset is almost uniform, with 20-30 customers at every age, except for the ages 18 and 19, which seem to have over twice as many customers as other ages. The uniform distribution might arise from the fact that there isn't a big variation in the number of people of any given age (between 18 & 64) in the USA."
      ]
    },
    {
      "cell_type": "code",
      "metadata": {
        "id": "ePvRPGZhjnXm"
      },
      "source": [
        ""
      ],
      "execution_count": 18,
      "outputs": []
    }
  ]
}