{
  "nbformat": 4,
  "nbformat_minor": 0,
  "metadata": {
    "colab": {
      "name": "Vivek_python-sklearn-linear-regression.ipynb",
      "provenance": [],
      "collapsed_sections": [],
      "authorship_tag": "ABX9TyNsmhe/GRIGOaUgwiUEEQXY",
      "include_colab_link": true
    },
    "kernelspec": {
      "name": "python3",
      "display_name": "Python 3"
    },
    "language_info": {
      "name": "python"
    }
  },
  "cells": [
    {
      "cell_type": "markdown",
      "metadata": {
        "id": "view-in-github",
        "colab_type": "text"
      },
      "source": [
        "<a href=\"https://colab.research.google.com/github/INSVICKY/Machine_learning_jovian/blob/main/Vivek_python_sklearn_linear_regression.ipynb\" target=\"_parent\"><img src=\"https://colab.research.google.com/assets/colab-badge.svg\" alt=\"Open In Colab\"/></a>"
      ]
    },
    {
      "cell_type": "code",
      "metadata": {
        "id": "--pNzjJ7MF69"
      },
      "source": [
        "##Downloading the Data\n",
        "##To begin, let's download the data using the urlretrieve function from urllib.request.\n",
        "medical_charges_url = 'https://raw.githubusercontent.com/JovianML/opendatasets/master/data/medical-charges.csv'\n",
        "from urllib.request import urlretrieve\n",
        "urlretrieve(medical_charges_url, 'medical.csv')"
      ],
      "execution_count": null,
      "outputs": []
    },
    {
      "cell_type": "markdown",
      "metadata": {
        "id": "5o3Q7GwbMzDW"
      },
      "source": [
        "## ***We can now create a Pandas dataframe using the downloaded file, to view and analyze the data.***"
      ]
    },
    {
      "cell_type": "code",
      "metadata": {
        "id": "XKiPrT4EM9Hu"
      },
      "source": [
        "import pandas as pd\n",
        "medical_df = pd.read_csv('medical.csv')\n",
        "medical_df"
      ],
      "execution_count": null,
      "outputs": []
    },
    {
      "cell_type": "markdown",
      "metadata": {
        "id": "_BN2iWu1NWBa"
      },
      "source": [
        "The dataset contains 1338 rows and 7 columns. Each row of the dataset contains information about one customer.\n",
        "\n",
        "Our objective is to find a way to estimate the value in the \"charges\" column using the values in the other columns. If we can do so for the historical data, then we should able to estimate charges for new customers too, simply by asking for information like their age, sex, BMI, no. of children, smoking habits and region.\n",
        "\n",
        "Let's check the data type for each column."
      ]
    },
    {
      "cell_type": "code",
      "metadata": {
        "id": "9l_pIECUNZKl"
      },
      "source": [
        "medical_df.info()"
      ],
      "execution_count": null,
      "outputs": []
    },
    {
      "cell_type": "code",
      "metadata": {
        "id": "PX1cJ8-rNVg1"
      },
      "source": [
        "medical_df.describe()"
      ],
      "execution_count": null,
      "outputs": []
    },
    {
      "cell_type": "markdown",
      "metadata": {
        "id": "P7rH5kNthlXz"
      },
      "source": [
        "Exploratory Analysis and Visualization\n",
        "Let's explore the data by visualizing the distribution of values in some columns of the dataset, and the relationships between \"charges\" and other columns.\n",
        "\n",
        "We'll use libraries Matplotlib, Seaborn and Plotly for visualization "
      ]
    },
    {
      "cell_type": "code",
      "metadata": {
        "id": "fzEsntCziJED"
      },
      "source": [
        "import plotly.express as px\n",
        "import matplotlib\n",
        "import matplotlib.pyplot as plt\n",
        "import seaborn as sns\n",
        "%matplotlib inline"
      ],
      "execution_count": null,
      "outputs": []
    },
    {
      "cell_type": "markdown",
      "metadata": {
        "id": "aId7W7C6iSs-"
      },
      "source": [
        "**The following settings will improve the default style and font sizes for our charts**"
      ]
    },
    {
      "cell_type": "code",
      "metadata": {
        "id": "xlUVESGZiYdL"
      },
      "source": [
        "sns.set_style('darkgrid')\n",
        "matplotlib.rcParams['font.size'] = 14\n",
        "matplotlib.rcParams['figure.figsize'] = (10, 6)\n",
        "matplotlib.rcParams['figure.facecolor'] = '#00000000'"
      ],
      "execution_count": null,
      "outputs": []
    },
    {
      "cell_type": "markdown",
      "metadata": {
        "id": "jgaP_cY7igXy"
      },
      "source": [
        "**Age**\n",
        "\n",
        "Age is a numeric column. The minimum age in the dataset is 18 and the maximum age is 64. Thus, we can visualize the distribution of age using a histogram with 47 bins (one for each year) and a box plot. We'll use plotly to make the chart interactive, but you can create similar charts using Seaborn."
      ]
    },
    {
      "cell_type": "code",
      "metadata": {
        "id": "2o_Wke7vinpT"
      },
      "source": [
        "medical_df.age.describe()"
      ],
      "execution_count": null,
      "outputs": []
    },
    {
      "cell_type": "code",
      "metadata": {
        "id": "n3jQOnYqixef"
      },
      "source": [
        "fig = px.histogram(medical_df, \n",
        "                   x='age', \n",
        "                   marginal='box', \n",
        "                   nbins=47, \n",
        "                   title='Distribution of Age')\n",
        "fig.update_layout(bargap=0.1)\n",
        "fig.show()"
      ],
      "execution_count": null,
      "outputs": []
    },
    {
      "cell_type": "markdown",
      "metadata": {
        "id": "hSM81yADjlsP"
      },
      "source": [
        "The distribution of ages in the dataset is almost uniform, with 20-30 customers at every age, except for the ages 18 and 19, which seem to have over twice as many customers as other ages. The uniform distribution might arise from the fact that there isn't a big variation in the number of people of any given age (between 18 & 64) in the USA."
      ]
    },
    {
      "cell_type": "markdown",
      "metadata": {
        "id": "iouUTzOUFBI0"
      },
      "source": [
        "**Body Mass Index**\n",
        "Let's look at the distribution of BMI (Body Mass Index) of customers, using a histogram and box plot.\n",
        "\n",
        "The measurements of body mass index seem to form a Gaussian distribution centered around the value 30, with a few outliers towards the right. Here's how BMI values can be interpreted"
      ]
    },
    {
      "cell_type": "code",
      "metadata": {
        "id": "fkL3i9zlFLsR"
      },
      "source": [
        "fig = px.histogram(medical_df, \n",
        "                   x='bmi', \n",
        "                   marginal='box', \n",
        "                   color_discrete_sequence=['red'], \n",
        "                   title='Distribution of BMI (Body Mass Index)')\n",
        "fig.update_layout(bargap=0.1)\n",
        "fig.show()"
      ],
      "execution_count": null,
      "outputs": []
    },
    {
      "cell_type": "markdown",
      "metadata": {
        "id": "kA0rP9ggF3fh"
      },
      "source": [
        "**Charges**\n",
        "\n",
        "Let's visualize the distribution of \"charges\" i.e. the annual medical charges for customers. This is the column we're trying to predict. Let's also use the categorical column \"smoker\" to distinguish the charges for smokers and non-smokers."
      ]
    },
    {
      "cell_type": "code",
      "metadata": {
        "id": "hYTrroRGF78C"
      },
      "source": [
        "fig = px.histogram(medical_df, \n",
        "                   x='charges', \n",
        "                   marginal='box', \n",
        "                   color='smoker', \n",
        "                   color_discrete_sequence=['green', 'grey'], \n",
        "                   title='Annual Medical Charges on smoking basis')\n",
        "fig.update_layout(bargap=0.1)\n",
        "fig.show()"
      ],
      "execution_count": null,
      "outputs": []
    },
    {
      "cell_type": "markdown",
      "metadata": {
        "id": "btlOidWXGqb1"
      },
      "source": [
        "We can make the following observations from the above graph:\n",
        "\n",
        "For most customers, the annual medical charges are under \\$10,000. Only a small fraction of customer have higher medical expenses, possibly due to accidents, major illnesses and genetic diseases. The distribution follows a \"power law\"\n",
        "There is a significant difference in medical expenses between smokers and non-smokers. While the median for non-smokers is \\$7300, the median for smokers is close to \\$35,000."
      ]
    },
    {
      "cell_type": "markdown",
      "metadata": {
        "id": "O-ZBBkJ6Gtlp"
      },
      "source": [
        "Let's visualize the distribution of \"charges\" i.e. the annual medical charges for customers. This is the column we're trying to predict. Let's also use the categorical column \"sex\" to distinguish the charges for male and female."
      ]
    },
    {
      "cell_type": "code",
      "metadata": {
        "id": "MBDvM8ijG_IH"
      },
      "source": [
        "fig = px.histogram(medical_df, \n",
        "                   x='charges', \n",
        "                   marginal='box', \n",
        "                   color='sex', \n",
        "                   color_discrete_sequence=['black', 'white'], \n",
        "                   title='Annual Medical Charges on sex basis')\n",
        "fig.update_layout(bargap=0.1)\n",
        "fig.show()"
      ],
      "execution_count": null,
      "outputs": []
    },
    {
      "cell_type": "markdown",
      "metadata": {
        "id": "fMbJEDDqHjRq"
      },
      "source": [
        "Let's visualize the distribution of \"charges\" i.e. the annual medical charges for customers. This is the column we're trying to predict. Let's also use the categorical column \"region\" to distinguish the charges for ."
      ]
    },
    {
      "cell_type": "code",
      "metadata": {
        "id": "CmTCBqTAH4Gy"
      },
      "source": [
        "fig = px.histogram(medical_df, \n",
        "                   x='charges', \n",
        "                   marginal='box', \n",
        "                   color='region', \n",
        "                   color_discrete_sequence=['orange', 'yellow','blue','Green'], \n",
        "                   title='Annual Medical Charges on region basis')\n",
        "fig.update_layout(bargap=0.1)\n",
        "fig.show()"
      ],
      "execution_count": null,
      "outputs": []
    },
    {
      "cell_type": "markdown",
      "metadata": {
        "id": "CHTgUI61IZRM"
      },
      "source": [
        "Smoker\n",
        "\n",
        "Let's visualize the distribution of the \"smoker\" column (containing values \"yes\" and \"no\") using a histogram."
      ]
    },
    {
      "cell_type": "code",
      "metadata": {
        "id": "7lboPJZZIbW-"
      },
      "source": [
        "medical_df.smoker.value_counts()"
      ],
      "execution_count": null,
      "outputs": []
    },
    {
      "cell_type": "code",
      "metadata": {
        "id": "QrOw-M2JIi75"
      },
      "source": [
        "px.histogram(medical_df, x='smoker', color='sex', title='Smoker')"
      ],
      "execution_count": null,
      "outputs": []
    },
    {
      "cell_type": "markdown",
      "metadata": {
        "id": "76IUCQDoIr1X"
      },
      "source": [
        "It appears that 20% of customers have reported that they smoke. Can you verify whether this matches the national average, assuming the data was collected in 2010? We can also see that smoking appears a more common habit among males. Can you verify this?"
      ]
    },
    {
      "cell_type": "markdown",
      "metadata": {
        "id": "xriUSJhwL8HV"
      },
      "source": [
        "smoker and region"
      ]
    },
    {
      "cell_type": "code",
      "metadata": {
        "id": "IzugcujsIttD"
      },
      "source": [
        "px.histogram(medical_df, x='smoker', color='region', title='Smoker')"
      ],
      "execution_count": null,
      "outputs": []
    },
    {
      "cell_type": "markdown",
      "metadata": {
        "id": "PpxakVi6L6WT"
      },
      "source": [
        "smoker and children"
      ]
    },
    {
      "cell_type": "code",
      "metadata": {
        "id": "wLepS9BCLofQ"
      },
      "source": [
        "px.histogram(medical_df, x='smoker', color='children', title='Smoker')"
      ],
      "execution_count": null,
      "outputs": []
    },
    {
      "cell_type": "markdown",
      "metadata": {
        "id": "SIXVYQ0JMIeu"
      },
      "source": [
        "Having looked at individual columns, we can now visualize the relationship between \"charges\" (the value we wish to predict) and other columns.\n",
        "\n",
        "**Age and Charges**\n",
        "\n",
        "Let's visualize the relationship between \"age\" and \"charges\" using a scatter plot. Each point in the scatter plot represents one customer. We'll also use values in the \"smoker\" column to color the points."
      ]
    },
    {
      "cell_type": "code",
      "metadata": {
        "id": "BhD1DhoFMQa9"
      },
      "source": [
        "fig = px.scatter(medical_df, \n",
        "                 x='age', \n",
        "                 y='charges', \n",
        "                 color='smoker', \n",
        "                 opacity=0.8, \n",
        "                 hover_data=['sex'], \n",
        "                 title='Age vs. Charges')\n",
        "fig.update_traces(marker_size=5)\n",
        "fig.show()"
      ],
      "execution_count": null,
      "outputs": []
    },
    {
      "cell_type": "markdown",
      "metadata": {
        "id": "HxduuYiUMqlL"
      },
      "source": [
        "We can make the following observations from the above chart:\n",
        "\n",
        "The general trend seems to be that medical charges increase with age, as we might expect. However, there is significant variation at every age, and it's clear that age alone cannot be used to accurately determine medical charges.\n",
        "We can see three \"clusters\" of points, each of which seems to form a line with an increasing slope:\n",
        "\n",
        "The first and the largest cluster consists primary of presumably \"healthy non-smokers\" who have relatively low medical charges compared to others\n",
        "\n",
        "The second cluster contains a mix of smokers and non-smokers. It's possible that these are actually two distinct but overlapping clusters: \"non-smokers with medical issues\" and \"smokers without major medical issues\".\n",
        "\n",
        "The final cluster consists exclusively of smokers, presumably smokers with major medical issues that are possibly related to or worsened by smoking."
      ]
    },
    {
      "cell_type": "markdown",
      "metadata": {
        "id": "l9k8CY2lOjGg"
      },
      "source": [
        "**BMI and Charges**\n",
        "\n",
        "Let's visualize the relationship between BMI (body mass index) and charges using another scatter plot. Once again, we'll use the values from the \"smoker\" column to color the points."
      ]
    },
    {
      "cell_type": "code",
      "metadata": {
        "id": "QkYKtyrcMsXN"
      },
      "source": [
        "fig = px.scatter(medical_df, \n",
        "                 x='bmi', \n",
        "                 y='charges', \n",
        "                 color='smoker', \n",
        "                 opacity=0.8, \n",
        "                 hover_data=['sex'], \n",
        "                 title='BMI vs. Charges')\n",
        "fig.update_traces(marker_size=5)\n",
        "fig.show()"
      ],
      "execution_count": null,
      "outputs": []
    },
    {
      "cell_type": "markdown",
      "metadata": {
        "id": "HJeAZR5rQfF2"
      },
      "source": [
        "It appears that for non-smokers, an increase in BMI doesn't seem to be related to an increase in medical charges. However, medical charges seem to be significantly higher for smokers with a BMI greater than 30"
      ]
    },
    {
      "cell_type": "markdown",
      "metadata": {
        "id": "p0ThimUqQg-e"
      },
      "source": [
        "Children and Charges\n",
        "\n",
        "Let's visualize the relationship between children and charges using another scatter plot. Once again, we'll use the values from the \"smoker\" column to color the points."
      ]
    },
    {
      "cell_type": "code",
      "metadata": {
        "id": "j7EtQchjQ6yZ"
      },
      "source": [
        "fig = px.scatter(medical_df, \n",
        "                 x='children', \n",
        "                 y='charges', \n",
        "                 color='smoker', \n",
        "                 opacity=0.8, \n",
        "                 hover_data=['sex'], \n",
        "                 title='Children vs. Charges')\n",
        "fig.update_traces(marker_size=5)\n",
        "fig.show()"
      ],
      "execution_count": null,
      "outputs": []
    },
    {
      "cell_type": "code",
      "metadata": {
        "id": "tQrUferiRK6O"
      },
      "source": [
        "fig = px.scatter(medical_df, \n",
        "                 x='sex', \n",
        "                 y='charges', \n",
        "                 color='smoker', \n",
        "                 opacity=0.8, \n",
        "                 hover_data=['sex'], \n",
        "                 title='Sex vs. Charges')\n",
        "fig.update_traces(marker_size=5)\n",
        "fig.show()"
      ],
      "execution_count": null,
      "outputs": []
    },
    {
      "cell_type": "code",
      "metadata": {
        "id": "eJuTwkw0RTf6"
      },
      "source": [
        "fig = px.scatter(medical_df, \n",
        "                 x='region', \n",
        "                 y='charges', \n",
        "                 color='smoker', \n",
        "                 opacity=0.8, \n",
        "                 hover_data=['sex'], \n",
        "                 title='Region vs. Charges')\n",
        "fig.update_traces(marker_size=5)\n",
        "fig.show()"
      ],
      "execution_count": null,
      "outputs": []
    },
    {
      "cell_type": "code",
      "metadata": {
        "id": "htpfxIvmRyOk"
      },
      "source": [
        "\n",
        "fig = px.violin(medical_df, \n",
        "                 x='region', \n",
        "                 y='charges', \n",
        "                 color='smoker',  \n",
        "                 hover_data=['sex'], \n",
        "                 title='Region vs. Charges')\n",
        "fig.update_traces(marker_size=5)\n",
        "fig.show()"
      ],
      "execution_count": null,
      "outputs": []
    },
    {
      "cell_type": "markdown",
      "metadata": {
        "id": "9qmeAIxkTERl"
      },
      "source": [
        "**Correlation**\n",
        "\n",
        "As you can tell from the analysis, the values in some columns are more closely related to the values in \"charges\" compared to other columns. E.g. \"age\" and \"charges\" seem to grow together, whereas \"bmi\" and \"charges\" don't.\n",
        "\n",
        "This relationship is often expressed numerically using a measure called the correlation coefficient, which can be computed using the .corr method of a Pandas series."
      ]
    },
    {
      "cell_type": "code",
      "metadata": {
        "id": "hS5PkCiNSSbC"
      },
      "source": [
        "\n",
        "medical_df.charges.corr(medical_df.age)\n"
      ],
      "execution_count": null,
      "outputs": []
    },
    {
      "cell_type": "code",
      "metadata": {
        "id": "sI1oRkamTUp6"
      },
      "source": [
        "medical_df.charges.corr(medical_df.bmi)"
      ],
      "execution_count": null,
      "outputs": []
    },
    {
      "cell_type": "markdown",
      "metadata": {
        "id": "bORX-P5aZo2P"
      },
      "source": [
        "To compute the correlation for categorical columns, they must first be converted into numeric columns."
      ]
    },
    {
      "cell_type": "code",
      "metadata": {
        "id": "qqqdjkqwZqGd"
      },
      "source": [
        "smoker_values = {'no': 0, 'yes': 1}\n",
        "smoker_numeric = medical_df.smoker.map(smoker_values)\n",
        "medical_df.charges.corr(smoker_numeric)"
      ],
      "execution_count": null,
      "outputs": []
    },
    {
      "cell_type": "markdown",
      "metadata": {
        "id": "4c9qGGBtZ4Dj"
      },
      "source": [
        "Here's how correlation coefficients can be interpreted \n",
        "\n",
        "\n",
        "**Strength:**\n",
        "\n",
        " The greater the absolute value of the correlation coefficient, the stronger the relationship.\n",
        "\n",
        "The extreme values of -1 and 1 indicate a perfectly linear relationship where a change in one variable is accompanied by a perfectly consistent change in the other. For these relationships, all of the data points fall on a line. In practice, you won’t see either type of perfect relationship.\n",
        "\n",
        "A coefficient of zero represents no linear relationship. As one variable increases, there is no tendency in the other variable to either increase or decrease.\n",
        "\n",
        "When the value is in-between 0 and +1/-1, there is a relationship, but the points don’t all fall on a line. As r approaches -1 or 1, the strength of the relationship increases and the data points tend to fall closer to a line.\n",
        "\n",
        "* **Direction**: The sign of the correlation coefficient represents the direction of the relationship.\n",
        "\n",
        "    * Positive coefficients indicate that when the value of one variable increases, the value of the other variable also tends to increase. Positive relationships produce an upward slope on a scatterplot.\n",
        "    \n",
        "    * Negative coefficients represent cases when the value of one variable increases, the value of the other variable tends to decrease. Negative relationships produce a downward slope.\n",
        "\n",
        "Here's the same relationship expressed visually ([source](https://www.cuemath.com/data/how-to-calculate-correlation-coefficient/)):\n",
        "\n",
        "<img src=\"https://i.imgur.com/3XUpDlw.png\" width=\"360\">\n",
        "\n",
        "The correlation coefficient has the following formula:\n",
        "\n",
        "<img src=\"https://i.imgur.com/unapugP.png\" width=\"360\">\n",
        "\n",
        "You can learn more about the mathematical definition and geometric interpretation of correlation here: https://www.youtube.com/watch?v=xZ_z8KWkhXE\n",
        "\n",
        "Pandas dataframes also provide a `.corr` method to compute the correlation coefficients between all pairs of numeric columns."
      ]
    },
    {
      "cell_type": "markdown",
      "metadata": {
        "id": "gJtUfQ6Pas70"
      },
      "source": [
        "Pandas dataframes also provide a .corr method to compute the correlation coefficients between all pairs of numeric columns."
      ]
    },
    {
      "cell_type": "code",
      "metadata": {
        "id": "2GtQeWALadsW"
      },
      "source": [
        "medical_df.corr()"
      ],
      "execution_count": null,
      "outputs": []
    },
    {
      "cell_type": "markdown",
      "metadata": {
        "id": "C5oKBse_a2MX"
      },
      "source": [
        "The result of .corr is called a correlation matrix and is often visualized using a heatmap."
      ]
    },
    {
      "cell_type": "code",
      "metadata": {
        "id": "eYOWnOU4a3Jb"
      },
      "source": [
        "sns.heatmap(medical_df.corr(), cmap='Reds', annot=True)\n",
        "plt.title('Correlation Matrix');"
      ],
      "execution_count": null,
      "outputs": []
    },
    {
      "cell_type": "markdown",
      "metadata": {
        "id": "HkGNtPX-a9OD"
      },
      "source": [
        "Correlation vs causation fallacy: Note that a high correlation cannot be used to interpret a cause-effect relationship between features. Two features  X  and  Y  can be correlated if  X  causes  Y  or if  Y  causes  X , or if both are caused independently by some other factor  Z , and the correlation will no longer hold true if one of the cause-effect relationships is broken. It's also possible that  X  are  Y  simply appear to be correlated because the sample is too small.\n",
        "\n",
        "While this may seem obvious, computers can't differentiate between correlation and causation, and decisions based on automated system can often have major consequences on society, so it's important to study why automated systems lead to a given result. Determining cause-effect relationships requires human insight."
      ]
    },
    {
      "cell_type": "markdown",
      "metadata": {
        "id": "Z7wFolwoa-47"
      },
      "source": [
        "**Linear Regression using a Single Feature**\n",
        "\n",
        "We now know that the \"smoker\" and \"age\" columns have the strongest correlation with \"charges\". Let's try to find a way of estimating the value of \"charges\" using the value of \"age\" for non-smokers. First, let's create a data frame containing just the data for non-smokers."
      ]
    },
    {
      "cell_type": "code",
      "metadata": {
        "id": "knibqRW3bFX1"
      },
      "source": [
        "non_smoker_df = medical_df[medical_df.smoker == 'no']\n",
        "plt.title('Age vs. Charges')\n",
        "sns.scatterplot(data=non_smoker_df, x='age', y='charges', alpha=0.7, s=15);"
      ],
      "execution_count": null,
      "outputs": []
    },
    {
      "cell_type": "markdown",
      "metadata": {
        "id": "ftCzCdnd71qV"
      },
      "source": [
        "Apart from a few exceptions, the points seem to form a line. We'll try and \"fit\" a line using this points, and use the line to predict charges for a given age. A line on the X&Y coordinates has the following formula:\n",
        "\n",
        "y=wx+b \n",
        "\n",
        "The line is characterized two numbers:  w  (called \"slope\") and  b  (called \"intercept\").\n",
        "\n",
        "**Model**\n",
        "\n",
        "In the above case, the x axis shows \"age\" and the y axis shows \"charges\". Thus, we're assume the following relationship between the two:\n",
        "\n",
        "**charges=w×age+b **\n",
        "\n",
        "We'll try determine  w  and  b  for the line that best fits the data.\n",
        "\n",
        "This technique is called linear regression, and we call the above equation a linear regression model, because it models the relationship between \"age\" and \"charges\" as a straight line.\n",
        "\n",
        "The numbers  w  and  b  are called the parameters or weights of the model.\n",
        "\n",
        "The values in the \"age\" column of the dataset are called the inputs to the model and the values in the charges column are called \"targets\".\n",
        "\n",
        "Let define a helper function estimate_charges, to compute  charges , given  age ,  w  and  b ."
      ]
    },
    {
      "cell_type": "code",
      "metadata": {
        "id": "waQelo-g79K3"
      },
      "source": [
        "def estimate_charges(age, w, b):\n",
        "    return w * age + b"
      ],
      "execution_count": null,
      "outputs": []
    },
    {
      "cell_type": "markdown",
      "metadata": {
        "id": "HXA7EGRo8HTX"
      },
      "source": [
        "The estimate_charges function is our very first model.\n",
        "\n",
        "Let's guess the values for  w  and  b  and use them to estimate the value for charges."
      ]
    },
    {
      "cell_type": "code",
      "metadata": {
        "id": "t4PmRf8c8IwE"
      },
      "source": [
        "w = 50\n",
        "b = 100\n",
        "ages = non_smoker_df.age\n",
        "estimated_charges = estimate_charges(ages, w, b)"
      ],
      "execution_count": null,
      "outputs": []
    },
    {
      "cell_type": "markdown",
      "metadata": {
        "id": "DRZpj8Ur8Rit"
      },
      "source": [
        "We can plot the estimated charges using a line graph."
      ]
    },
    {
      "cell_type": "code",
      "metadata": {
        "id": "K5ODn-K48SWj"
      },
      "source": [
        "plt.plot(ages, estimated_charges, 'r-o');\n",
        "plt.xlabel('Age');\n",
        "plt.ylabel('Estimated Charges');"
      ],
      "execution_count": null,
      "outputs": []
    },
    {
      "cell_type": "markdown",
      "metadata": {
        "id": "ZhG-SjCR8aAN"
      },
      "source": [
        "As expected, the points lie on a straight line.\n",
        "\n",
        "We can overlay this line on the actual data, so see how well our model fits the data."
      ]
    },
    {
      "cell_type": "code",
      "metadata": {
        "colab": {
          "base_uri": "https://localhost:8080/",
          "height": 396
        },
        "id": "JPQBCEtB8a3c",
        "outputId": "afbb7758-8bb5-4692-b7ad-b6b1fde281d6"
      },
      "source": [
        "target = non_smoker_df.charges\n",
        "\n",
        "plt.plot(ages, estimated_charges, 'r', alpha=0.9);\n",
        "plt.scatter(ages, target, s=8,alpha=0.8);\n",
        "plt.xlabel('Age');\n",
        "plt.ylabel('Charges')\n",
        "plt.legend(['Estimate', 'Actual']);"
      ],
      "execution_count": 41,
      "outputs": [
        {
          "output_type": "display_data",
          "data": {
            "image/png": "[encoded data removed]",
            "text/plain": [
              "<Figure size 720x432 with 1 Axes>"
            ]
          },
          "metadata": {
            "tags": [],
            "needs_background": "light"
          }
        }
      ]
    },
    {
      "cell_type": "markdown",
      "metadata": {
        "id": "rbszojzH9x_L"
      },
      "source": [
        "Clearly, the our estimates are quite poor and the line does not \"fit\" the data. However, we can try different values of  w  and  b  to move the line around. Let's define a helper function try_parameters which takes w and b as inputs and creates the above plot."
      ]
    },
    {
      "cell_type": "code",
      "metadata": {
        "id": "dxoIAPJp9y_J"
      },
      "source": [
        "def try_parameters(w, b):\n",
        "    ages = non_smoker_df.age\n",
        "    target = non_smoker_df.charges\n",
        "    \n",
        "    estimated_charges = estimate_charges(ages, w, b)\n",
        "    \n",
        "    plt.plot(ages, estimated_charges, 'r', alpha=0.9);\n",
        "    plt.scatter(ages, target, s=8,alpha=0.8);\n",
        "    plt.xlabel('Age');\n",
        "    plt.ylabel('Charges')\n",
        "    plt.legend(['Estimate', 'Actual']);\n",
        "   "
      ],
      "execution_count": 43,
      "outputs": []
    },
    {
      "cell_type": "code",
      "metadata": {
        "colab": {
          "base_uri": "https://localhost:8080/",
          "height": 396
        },
        "id": "Mm38PG-c9-Wd",
        "outputId": "5bb45d2c-8f19-420a-a141-7285eaf1edba"
      },
      "source": [
        "try_parameters(400, 5000)"
      ],
      "execution_count": 44,
      "outputs": [
        {
          "output_type": "display_data",
          "data": {
            "image/png": "[encoded data removed]",
            "text/plain": [
              "<Figure size 720x432 with 1 Axes>"
            ]
          },
          "metadata": {
            "tags": [],
            "needs_background": "light"
          }
        }
      ]
    },
    {
      "cell_type": "code",
      "metadata": {
        "colab": {
          "base_uri": "https://localhost:8080/",
          "height": 396
        },
        "id": "obT-3iAvARCB",
        "outputId": "69f297d9-f7ff-415b-8bfb-677d28cc12d7"
      },
      "source": [
        "try_parameters(250, -2950)"
      ],
      "execution_count": 51,
      "outputs": [
        {
          "output_type": "display_data",
          "data": {
            "image/png": "[encoded data removed]",
            "text/plain": [
              "<Figure size 720x432 with 1 Axes>"
            ]
          },
          "metadata": {
            "tags": [],
            "needs_background": "light"
          }
        }
      ]
    },
    {
      "cell_type": "markdown",
      "metadata": {
        "id": "Hvi2q_FKFK9m"
      },
      "source": [
        "As we change the values, of  w  and  b  manually, trying to move the line visually closer to the points, we are learning the approximate relationship between \"age\" and \"charges\".\n",
        "\n",
        "Wouldn't it be nice if a computer could try several different values of w and b and learn the relationship between \"age\" and \"charges\"? To do this, we need to solve a couple of problems:\n",
        "\n",
        "We need a way to measure numerically how well the line fits the points.\n",
        "\n",
        "Once the \"measure of fit\" has been computed, we need a way to modify w and b to improve the the fit.\n",
        "\n",
        "If we can solve the above problems, it should be possible for a computer to determine w and b for the best fit line, starting from a random guess."
      ]
    },
    {
      "cell_type": "markdown",
      "metadata": {
        "id": "0Q9LtzdoFRQW"
      },
      "source": [
        "**Loss/Cost Function**\n",
        "\n",
        "We can compare our model's predictions with the actual targets using the following method:\n",
        "\n",
        "Calculate the difference between the targets and predictions (the differenced is called the \"residual\")\n",
        "Square all elements of the difference matrix to remove negative values.\n",
        "Calculate the average of the elements in the resulting matrix.\n",
        "Take the square root of the result\n",
        "The result is a single number, known as the root mean squared error (RMSE). The above description can be stated mathematically as follows:\n",
        "\n",
        "<img src=\"https://i.imgur.com/WCanPkA.png\" width=\"360\">\n",
        "\n",
        "Geometrically, the residuals can be visualized as follows:\n",
        "\n",
        "<img src=\"https://i.imgur.com/ll3NL80.png\" width=\"420\">\n",
        "\n",
        "Let's define a function to compute the RMSE."
      ]
    },
    {
      "cell_type": "code",
      "metadata": {
        "colab": {
          "base_uri": "https://localhost:8080/",
          "height": 413
        },
        "id": "b5936P3QFODd",
        "outputId": "ac95ab30-3457-4d5c-a89c-34e21c75dfaa"
      },
      "source": [
        "import numpy as np\n",
        "def rmse(targets, predictions):\n",
        "    return np.sqrt(np.mean(np.square(targets - predictions)))\n",
        "w = 50\n",
        "b = 100\n",
        "try_parameters(w, b)\n",
        "targets = non_smoker_df['charges']\n",
        "predicted = estimate_charges(non_smoker_df.age, w, b)\n",
        "rmse(targets, predicted)"
      ],
      "execution_count": 56,
      "outputs": [
        {
          "output_type": "execute_result",
          "data": {
            "text/plain": [
              "8461.949562575488"
            ]
          },
          "metadata": {
            "tags": []
          },
          "execution_count": 56
        },
        {
          "output_type": "display_data",
          "data": {
            "image/png": "[encoded data removed]",
            "text/plain": [
              "<Figure size 720x432 with 1 Axes>"
            ]
          },
          "metadata": {
            "tags": [],
            "needs_background": "light"
          }
        }
      ]
    }
  ]
}